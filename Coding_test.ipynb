{
 "cells": [
  {
   "cell_type": "markdown",
   "id": "313c2a4e-d11d-43e0-9357-3f00d105c63a",
   "metadata": {},
   "source": [
    "## Setup"
   ]
  },
  {
   "cell_type": "code",
   "execution_count": 1,
   "id": "13167012-9692-466d-abd1-86e716803843",
   "metadata": {
    "scrolled": true
   },
   "outputs": [],
   "source": [
    "import getpass\n",
    "import os\n",
    "\n",
    "#os.environ[\"OPENAI_API_KEY\"] = getpass.getpass()\n",
    "#os.environ[\"SLACK_USER_TOKEN\"] = getpass.getpass()\n",
    "os.environ[\"OPENAI_API_KEY\"] = \"\"\n",
    "os.environ[\"SLACK_USER_TOKEN\"] = \"\"\n",
    "from langchain_openai import ChatOpenAI\n",
    "\n",
    "llm = ChatOpenAI(model=\"gpt-4o-mini\")"
   ]
  },
  {
   "cell_type": "code",
   "execution_count": 2,
   "id": "ccc89ba6-7edb-4d06-8296-c647c2cfabb6",
   "metadata": {},
   "outputs": [],
   "source": [
    "#document loading\n",
    "from langchain.document_loaders import PyPDFLoader\n",
    "from langchain.text_splitter import CharacterTextSplitter, RecursiveCharacterTextSplitter\n",
    "from langchain.vectorstores import Chroma\n",
    "from langchain_openai import OpenAIEmbeddings\n",
    "\n",
    "from langchain_core.prompts import PromptTemplate\n",
    "from langchain.chains import RetrievalQA\n",
    "from langchain.tools.retriever import create_retriever_tool\n",
    "from langchain.agents import AgentExecutor, Tool, AgentType, create_json_chat_agent\n",
    "from langchain.agents.react.agent import create_react_agent\n",
    "from langchain import hub\n",
    "\n",
    "from langchain_core.prompts import ChatPromptTemplate\n",
    "from langchain_core.runnables import ConfigurableField\n",
    "from langchain_core.tools import tool\n",
    "from langchain.agents import create_tool_calling_agent, AgentExecutor\n",
    "from langchain_community.agent_toolkits import SlackToolkit"
   ]
  },
  {
   "cell_type": "markdown",
   "id": "1c422137-d3d3-44b7-8b44-6e6576fc737e",
   "metadata": {},
   "source": [
    "## Loading and splitting Documents"
   ]
  },
  {
   "cell_type": "code",
   "execution_count": 3,
   "id": "e6c9d869-ea44-43ba-81ba-67a11511a0ed",
   "metadata": {},
   "outputs": [
    {
     "name": "stdout",
     "output_type": "stream",
     "text": [
      "pages: 46\n",
      "split docs: 177\n"
     ]
    }
   ],
   "source": [
    "loader = PyPDFLoader(\"handbook.pdf\")\n",
    "pages = loader.load()\n",
    "print('pages:',len(pages))\n",
    "\n",
    "text_splitter = CharacterTextSplitter(\n",
    "    separator=\"\\n\",\n",
    "    chunk_size=1000,\n",
    "    chunk_overlap=150,\n",
    "    length_function=len\n",
    ")\n",
    "\n",
    "docs = text_splitter.split_documents(pages)\n",
    "print('split docs:',len(docs))"
   ]
  },
  {
   "cell_type": "code",
   "execution_count": 4,
   "id": "fbc8762e-c9c3-4f88-83f9-c478e756fd24",
   "metadata": {},
   "outputs": [],
   "source": [
    "!rm -rf ./docs/chroma "
   ]
  },
  {
   "cell_type": "markdown",
   "id": "ff915864-1c44-4dda-b0f7-231b4e327aa4",
   "metadata": {},
   "source": [
    "## Embedding "
   ]
  },
  {
   "cell_type": "code",
   "execution_count": 5,
   "id": "4c6d026c-e22b-496d-a1ab-b5d947c44035",
   "metadata": {},
   "outputs": [
    {
     "name": "stdout",
     "output_type": "stream",
     "text": [
      "177\n"
     ]
    }
   ],
   "source": [
    "persist_directory = 'docs/chroma/'\n",
    "embedding = OpenAIEmbeddings()\n",
    "vectordb = Chroma.from_documents(\n",
    "    documents=docs,\n",
    "    embedding=embedding,\n",
    "    persist_directory=persist_directory\n",
    ")\n",
    "\n",
    "print(vectordb._collection.count())"
   ]
  },
  {
   "cell_type": "markdown",
   "id": "73e984c0-0fb8-4978-a85c-cc74ee62d62a",
   "metadata": {},
   "source": [
    "## Retriever"
   ]
  },
  {
   "cell_type": "code",
   "execution_count": 6,
   "id": "42377f0b-42ce-485f-a2a9-735d4b417c1c",
   "metadata": {},
   "outputs": [
    {
     "data": {
      "text/plain": [
       "{'query': 'What is the name of the company?',\n",
       " 'result': 'The name of the company is Zania, Inc.'}"
      ]
     },
     "execution_count": 6,
     "metadata": {},
     "output_type": "execute_result"
    }
   ],
   "source": [
    "qa_chain = RetrievalQA.from_chain_type(\n",
    "    llm,\n",
    "    retriever=vectordb.as_retriever()\n",
    ")\n",
    "question = \"What is the name of the company?\"\n",
    "docs = vectordb.similarity_search(question,k=3)\n",
    "#print(len(docs))\n",
    "qa_chain.invoke({\"query\": question})"
   ]
  },
  {
   "cell_type": "markdown",
   "id": "a7f0ec11-7872-41c1-ba3f-205a505c7c44",
   "metadata": {},
   "source": [
    "## Creating Tools for Agent"
   ]
  },
  {
   "cell_type": "code",
   "execution_count": 7,
   "id": "40837d69-5c13-4191-9732-92c8b3cf0eea",
   "metadata": {},
   "outputs": [
    {
     "name": "stderr",
     "output_type": "stream",
     "text": [
      "/Library/Frameworks/Python.framework/Versions/3.12/lib/python3.12/site-packages/langchain_core/_api/beta_decorator.py:87: LangChainBetaWarning: This API is in beta and may change in the future.\n",
      "  warn_beta(\n"
     ]
    }
   ],
   "source": [
    "toolkit = SlackToolkit()\n",
    "tool = toolkit.get_tools()\n",
    "tool1 = tool[3].as_tool(name = 'slack', description='send message on slack')\n",
    "tool2 = create_retriever_tool(retriever=vectordb.as_retriever(), name = 'Retrival_tool', description='Retrival_tool_for_documentdb')\n",
    "tools = [tool2, tool1]"
   ]
  },
  {
   "cell_type": "code",
   "execution_count": 8,
   "id": "db6d534c-2e4d-4c08-82fb-b57c0e2f5c03",
   "metadata": {},
   "outputs": [],
   "source": [
    "prompt = ChatPromptTemplate.from_messages([\n",
    "    (\"system\", \"you're a helpful assistant\"), \n",
    "    (\"human\", \"{input}\"), \n",
    "    (\"placeholder\", \"{agent_scratchpad}\"),\n",
    "])\n",
    "agent = create_tool_calling_agent(llm, tools, prompt)\n",
    "agent_executor = AgentExecutor(agent=agent, tools=tools, verbose=True)"
   ]
  },
  {
   "cell_type": "code",
   "execution_count": 9,
   "id": "4d7360c6-9a8a-4941-b361-e3230c9762d6",
   "metadata": {},
   "outputs": [
    {
     "name": "stdout",
     "output_type": "stream",
     "text": [
      "\n",
      "\n",
      "\u001b[1m> Entering new AgentExecutor chain...\u001b[0m\n",
      "\u001b[32;1m\u001b[1;3m\n",
      "Invoking: `Retrival_tool` with `{'query': 'What is the name of the company?'}`\n",
      "\n",
      "\n",
      "\u001b[0m\u001b[36;1m\u001b[1;3mThis policy may not be appropriate in its entirety for employees working in Montana.\n",
      "2.0 \n",
      "Introductory Language and Policies\n",
      "2.1 \n",
      "About the Company\n",
      "[[Add your about the company statement here.]]\n",
      "2.2 \n",
      "Company Facilities\n",
      "[[Insert information about your company facilities here.]]\n",
      "2.3 \n",
      "Ethics Code\n",
      "Zania, Inc. will conduct business honestly and ethically wherever operations are maintained. We strive to improve the quality\n",
      "of our services, products, and operations and will maintain a reputation for honesty, fairness, respect, responsibility,\n",
      "integrity, trust, and sound business judgment. Our managers and employees are expected to adhere to high standards of\n",
      "business and personal integrity as a representation of our business practices, at all times consistent with their duty of loyalty\n",
      "to the Company.\n",
      "We expect that officers, directors, and employees will not knowingly misrepresent the Company and will not speak on behalf\n",
      "\n",
      "Third Party Disclosures\n",
      "From time to time, Zania, Inc. may become involved in news stories or potential or actual legal proceedings of various kinds.\n",
      "When that happens, lawyers, former employees, newspapers, law enforcement agencies, and other outside persons may\n",
      "contact our employees to obtain information about the incident or the actual or potential lawsuit.\n",
      "If you receive such a contact, you should not speak on behalf of the Company and should refer any call requesting the\n",
      "position of the Company to [[media contact person]]. If you have any questions about this policy or are not certain what to do\n",
      "when such a contact is made, contact [[media contact person]].\n",
      "6.12 \n",
      "Use of Company Technology\n",
      "This policy is intended to provide Zania, Inc. employees with the guidelines associated with the use of the Company\n",
      "information technology (IT) resources and communications systems.\n",
      "\n",
      "to the Company.\n",
      "We expect that officers, directors, and employees will not knowingly misrepresent the Company and will not speak on behalf\n",
      "of the Company unless specifically authorized. The confidentiality of trade secrets, proprietary information, and similar\n",
      "confidential commercially-sensitive information (i.e. financial or sales records/reports, marketing or business\n",
      "strategies/plans, product development, customer lists, patents, trademarks, etc.) about the Company or operations, or that of\n",
      "our customers or partners, is to be treated with discretion and only disseminated on a need-to-know basis (see policies\n",
      "relating to privacy).\n",
      "Violation of the Code of Ethics can result in discipline, up to and including termination of employment. The degree of\n",
      "discipline imposed may be influenced by the existence of voluntary disclosure of any ethical violation and whether or not the\n",
      "violator cooperated in any subsequent investigation.\n",
      "2.4 \n",
      "Mission Statement\n",
      "\n",
      "Closing Statement\n",
      "Thank you for reading our handbook. We hope it has provided you with an understanding of our mission, history, and\n",
      "structure as well as our current policies and guidelines. We look forward to working with you to create a successful\n",
      "Company and a safe, productive, and pleasant workplace.\n",
      "Shruti Gupta, CEO\n",
      "Zania, Inc.\n",
      "45\u001b[0m\u001b[32;1m\u001b[1;3m\n",
      "Invoking: `slack` with `{'message': 'The name of the company is Zania, Inc.', 'channel': '#testproject'}`\n",
      "\n",
      "\n",
      "\u001b[0m\u001b[33;1m\u001b[1;3mMessage sent: {'ok': True, 'channel': 'C07GF3E5ZD1', 'ts': '1723482837.312109', 'message': {'user': 'U05BGGKT117', 'type': 'message', 'ts': '1723482837.312109', 'bot_id': 'B07GTU1LS8Z', 'app_id': 'A07GCA2B06R', 'text': 'The name of the company is Zania, Inc.', 'team': 'T05BTJJ9A64', 'bot_profile': {'id': 'B07GTU1LS8Z', 'app_id': 'A07GCA2B06R', 'name': 'File Writer App', 'icons': {'image_36': 'https://a.slack-edge.com/80588/img/plugins/app/bot_36.png', 'image_48': 'https://a.slack-edge.com/80588/img/plugins/app/bot_48.png', 'image_72': 'https://a.slack-edge.com/80588/img/plugins/app/service_72.png'}, 'deleted': False, 'updated': 1723392719, 'team_id': 'T05BTJJ9A64'}, 'blocks': [{'type': 'rich_text', 'block_id': 'Jr53U', 'elements': [{'type': 'rich_text_section', 'elements': [{'type': 'text', 'text': 'The name of the company is Zania, Inc.'}]}]}]}}\u001b[0m\u001b[32;1m\u001b[1;3mThe name of the company is Zania, Inc. I have sent this information to the Slack channel #testproject.\u001b[0m\n",
      "\n",
      "\u001b[1m> Finished chain.\u001b[0m\n"
     ]
    },
    {
     "data": {
      "text/plain": [
       "{'input': ' Answer the question What is the name of the company? and send answer to slack channel #testproject',\n",
       " 'output': 'The name of the company is Zania, Inc. I have sent this information to the Slack channel #testproject.'}"
      ]
     },
     "execution_count": 9,
     "metadata": {},
     "output_type": "execute_result"
    }
   ],
   "source": [
    "agent_executor.invoke({\"input\":\" Answer the question What is the name of the company? and send answer to slack channel #testproject\"})"
   ]
  }
 ],
 "metadata": {
  "kernelspec": {
   "display_name": "Python 3 (ipykernel)",
   "language": "python",
   "name": "python3"
  },
  "language_info": {
   "codemirror_mode": {
    "name": "ipython",
    "version": 3
   },
   "file_extension": ".py",
   "mimetype": "text/x-python",
   "name": "python",
   "nbconvert_exporter": "python",
   "pygments_lexer": "ipython3",
   "version": "3.12.2"
  }
 },
 "nbformat": 4,
 "nbformat_minor": 5
}
